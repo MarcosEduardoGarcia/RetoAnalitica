{
 "cells": [
  {
   "cell_type": "markdown",
   "metadata": {},
   "source": [
    "# **Actividad Evaluable: Obtención de estadisticas descriptivas**"
   ]
  },
  {
   "cell_type": "markdown",
   "metadata": {},
   "source": [
    "Marcela Ibarra Mora A01231973\n",
    "Jesús David Talamantes Morales A01706335\n",
    "Marcos Eduardo García Ortiz A01276213"
   ]
  },
  {
   "cell_type": "markdown",
   "metadata": {
    "id": "CO8r2wE-cllK"
   },
   "source": [
    "**Se lee el archivo csv y se carga la informacion en CharStat**:"
   ]
  },
  {
   "cell_type": "code",
   "execution_count": 1,
   "metadata": {
    "colab": {
     "base_uri": "https://localhost:8080/"
    },
    "id": "UyqZAIc7TLXA",
    "outputId": "b6cb1484-f818-44a3-d150-f169ec1b49cb",
    "scrolled": true
   },
   "outputs": [
    {
     "name": "stdout",
     "output_type": "stream",
     "text": [
      "                Name Alignment  Intelligence  Strength  Speed  Durability  \\\n",
      "0            3-D Man      good            50        31     43          32   \n",
      "1             A-Bomb      good            38       100     17          80   \n",
      "2         Abe Sapien      good            88        14     35          42   \n",
      "3           Abin Sur      good            50        90     53          64   \n",
      "4        Abomination       bad            63        80     53          90   \n",
      "..               ...       ...           ...       ...    ...         ...   \n",
      "606     Yellowjacket      good            88        10     12          28   \n",
      "607  Yellowjacket II      good            50        10     35          28   \n",
      "608             Ymir      good            50       100     27         100   \n",
      "609          Zatanna      good            75        10     23          28   \n",
      "610             Zoom       bad            50        10    100          28   \n",
      "\n",
      "     Power  Combat  Total  \n",
      "0       25      52    233  \n",
      "1       17      64    316  \n",
      "2       35      85    299  \n",
      "3       84      65    406  \n",
      "4       55      95    436  \n",
      "..     ...     ...    ...  \n",
      "606     12      14    164  \n",
      "607     31      28    182  \n",
      "608     83      28    388  \n",
      "609    100      56    292  \n",
      "610     72      28    288  \n",
      "\n",
      "[611 rows x 9 columns]\n"
     ]
    }
   ],
   "source": [
    "import pandas as pd\n",
    "CharStat = pd.read_csv('charcters_stats.csv')\n",
    "print(CharStat)"
   ]
  },
  {
   "cell_type": "markdown",
   "metadata": {
    "id": "srxlkd1Hc7IV"
   },
   "source": [
    " **Se obtiene la información del la tabla com la cantidad de datos que se tiene, las variables y los timpos de datos de cada variable:**"
   ]
  },
  {
   "cell_type": "code",
   "execution_count": 3,
   "metadata": {
    "colab": {
     "base_uri": "https://localhost:8080/"
    },
    "id": "gX-L5JCdTvDg",
    "outputId": "376be111-270c-4ff3-e8b7-9864d0764159"
   },
   "outputs": [
    {
     "name": "stdout",
     "output_type": "stream",
     "text": [
      "<class 'pandas.core.frame.DataFrame'>\n",
      "RangeIndex: 611 entries, 0 to 610\n",
      "Data columns (total 9 columns):\n",
      " #   Column        Non-Null Count  Dtype \n",
      "---  ------        --------------  ----- \n",
      " 0   Name          611 non-null    object\n",
      " 1   Alignment     611 non-null    object\n",
      " 2   Intelligence  611 non-null    int64 \n",
      " 3   Strength      611 non-null    int64 \n",
      " 4   Speed         611 non-null    int64 \n",
      " 5   Durability    611 non-null    int64 \n",
      " 6   Power         611 non-null    int64 \n",
      " 7   Combat        611 non-null    int64 \n",
      " 8   Total         611 non-null    int64 \n",
      "dtypes: int64(7), object(2)\n",
      "memory usage: 43.1+ KB\n"
     ]
    }
   ],
   "source": [
    "CharStat.info()"
   ]
  },
  {
   "cell_type": "markdown",
   "metadata": {
    "id": "8zOdn1n5dT5c"
   },
   "source": [
    "**Se ordena la tabla en dependiendo si el personaje es malo, bueno o neutral:**"
   ]
  },
  {
   "cell_type": "code",
   "execution_count": 4,
   "metadata": {
    "colab": {
     "base_uri": "https://localhost:8080/"
    },
    "id": "meQN-6b2VRgz",
    "outputId": "f13a3e16-8d61-4a1c-d851-e846d30844d6"
   },
   "outputs": [
    {
     "name": "stdout",
     "output_type": "stream",
     "text": [
      "610        bad\n",
      "390        bad\n",
      "391        bad\n",
      "201        bad\n",
      "242        bad\n",
      "        ...   \n",
      "238    neutral\n",
      "557    neutral\n",
      "544    neutral\n",
      "186    neutral\n",
      "477    neutral\n",
      "Name: Alignment, Length: 611, dtype: object\n"
     ]
    }
   ],
   "source": [
    "Sorted = CharStat['Alignment'].sort_values(ascending = True)\n",
    "print(Sorted)"
   ]
  },
  {
   "cell_type": "markdown",
   "metadata": {
    "id": "HnZvi-ck82F7"
   },
   "source": [
    "**Se separa la tabla en 3 dependiendo si el personaje es bueno, malo o neutral**"
   ]
  },
  {
   "cell_type": "code",
   "execution_count": null,
   "metadata": {
    "colab": {
     "base_uri": "https://localhost:8080/"
    },
    "id": "pyQHApvLZY_F",
    "outputId": "7f59c4fb-5b4c-489a-e60a-7f2ecdcedb74"
   },
   "outputs": [
    {
     "name": "stdout",
     "output_type": "stream",
     "text": [
      "               Name Alignment  Intelligence  ...  Power  Combat  Total\n",
      "4       Abomination       bad            63  ...     55      95    436\n",
      "5           Abraxas       bad            88  ...    100      56    526\n",
      "11       Air-Walker       bad            50  ...    100      40    460\n",
      "16            Amazo       bad            75  ...    100     100    575\n",
      "17             Ammo       bad             1  ...      0       1      5\n",
      "..              ...       ...           ...  ...    ...     ...    ...\n",
      "586            Warp       bad            38  ...     63      50    212\n",
      "590       Weapon XI       bad             1  ...      0       1      5\n",
      "593  Willis Stryker       bad            38  ...     41      60    206\n",
      "605     Yellow Claw       bad             1  ...      0       1      5\n",
      "610            Zoom       bad            50  ...     72      28    288\n",
      "\n",
      "[167 rows x 9 columns]\n"
     ]
    }
   ],
   "source": [
    "CharStat_Bad = CharStat[(CharStat.Alignment == \"bad\")]\n",
    "print(CharStat_Bad)"
   ]
  },
  {
   "cell_type": "code",
   "execution_count": null,
   "metadata": {
    "colab": {
     "base_uri": "https://localhost:8080/"
    },
    "id": "A93HVinubj-k",
    "outputId": "d19d159e-c9f0-49b3-b3d2-b6500976c69c"
   },
   "outputs": [
    {
     "name": "stdout",
     "output_type": "stream",
     "text": [
      "                Name Alignment  Intelligence  ...  Power  Combat  Total\n",
      "0            3-D Man      good            50  ...     25      52    233\n",
      "1             A-Bomb      good            38  ...     17      64    316\n",
      "2         Abe Sapien      good            88  ...     35      85    299\n",
      "3           Abin Sur      good            50  ...     84      65    406\n",
      "6        Adam Monroe      good            63  ...     71      64    320\n",
      "..               ...       ...           ...  ...    ...     ...    ...\n",
      "604            X-Man      good            88  ...     92      84    465\n",
      "606     Yellowjacket      good            88  ...     12      14    164\n",
      "607  Yellowjacket II      good            50  ...     31      28    182\n",
      "608             Ymir      good            50  ...     83      28    388\n",
      "609          Zatanna      good            75  ...    100      56    292\n",
      "\n",
      "[432 rows x 9 columns]\n"
     ]
    }
   ],
   "source": [
    "CharStat_Good = CharStat[(CharStat.Alignment == \"good\")]\n",
    "print(CharStat_Good)"
   ]
  },
  {
   "cell_type": "code",
   "execution_count": null,
   "metadata": {
    "colab": {
     "base_uri": "https://localhost:8080/"
    },
    "id": "D8g1ZbKwbxjA",
    "outputId": "cff3abec-d30a-4250-fe6c-06e7154ac06d"
   },
   "outputs": [
    {
     "name": "stdout",
     "output_type": "stream",
     "text": [
      "             Name Alignment  Intelligence  ...  Power  Combat  Total\n",
      "28     Anti-Venom   neutral            75  ...     85      84    459\n",
      "82        Bizarro   neutral            75  ...     95      85    550\n",
      "186      Deadpool   neutral            50  ...    100     100    395\n",
      "189   Deathstroke   neutral            75  ...     36      90    366\n",
      "238      Galactus   neutral           100  ...    100      70    553\n",
      "318    Juggernaut   neutral            44  ...     74      70    430\n",
      "357       Man-Bat   neutral            38  ...     33      30    239\n",
      "451         Raven   neutral            50  ...     62      40    261\n",
      "454      Red Hood   neutral            75  ...     24      95    257\n",
      "477       Sandman   neutral            50  ...     62      56    387\n",
      "544  The Comedian   neutral            63  ...     12      80    196\n",
      "557          Toad   neutral            50  ...     49      28    275\n",
      "\n",
      "[12 rows x 9 columns]\n"
     ]
    }
   ],
   "source": [
    "CharStat_Neutral = CharStat[(CharStat.Alignment == \"neutral\")]\n",
    "print(CharStat_Neutral)"
   ]
  },
  {
   "cell_type": "markdown",
   "metadata": {
    "id": "7xFkKt0-Bmtd"
   },
   "source": [
    "**Se obtiene el personaje BAD con mayor porcentaje total y el que tiene el peor porcentaje en todas las categorias**"
   ]
  },
  {
   "cell_type": "code",
   "execution_count": null,
   "metadata": {
    "colab": {
     "base_uri": "https://localhost:8080/"
    },
    "id": "d6AUQopzeTuN",
    "outputId": "297954bf-aab4-4bc1-f974-ca81b6b3b1c0"
   },
   "outputs": [
    {
     "name": "stdout",
     "output_type": "stream",
     "text": [
      "               Name Alignment  Intelligence  ...  Power  Combat  Total\n",
      "242     General Zod       bad            94  ...     94      95    579\n",
      "535  Superboy-Prime       bad            94  ...    100      85    579\n",
      "\n",
      "[2 rows x 9 columns]\n",
      "                 Name Alignment  Intelligence  ...  Power  Combat  Total\n",
      "17               Ammo       bad             1  ...      0       1      5\n",
      "21             Angela       bad             1  ...      0       1      5\n",
      "27         Anti-Spawn       bad             1  ...      0       1      5\n",
      "67             Beetle       bad             1  ...      0       1      5\n",
      "75      Billy Kincaid       bad             1  ...      0       1      5\n",
      "78           Bird-Man       bad             1  ...      0       1      5\n",
      "79        Bird-Man II       bad             1  ...      0       1      5\n",
      "83       Black Abbott       bad             1  ...      0       1      5\n",
      "103          Blizzard       bad             1  ...      0       1      5\n",
      "104        Blizzard I       bad             1  ...      0       1      5\n",
      "109       Bloodwraith       bad             1  ...      0       1      5\n",
      "115        Bomb Queen       bad             1  ...      0       1      5\n",
      "152         Cheetah I       bad             1  ...      0       1      5\n",
      "153        Cheetah II       bad             1  ...      0       1      5\n",
      "154       Cheetah III       bad             1  ...      0       1      5\n",
      "155           Chromos       bad             1  ...      0       1      5\n",
      "160        Cogliostro       bad             1  ...      0       1      5\n",
      "168             Curse       bad             1  ...      0       1      5\n",
      "169            Cy-Gor       bad             1  ...      0       1      5\n",
      "181          Darkside       bad             1  ...      0       1      5\n",
      "197    Doctor Octopus       bad             1  ...      0       1      5\n",
      "216     Fabian Cortez       bad             1  ...      0       1      5\n",
      "227             Fixer       bad             1  ...      0       1      5\n",
      "254       Goliath III       bad             1  ...      0       1      5\n",
      "256   Granny Goodness       bad             1  ...      0       1      5\n",
      "284         Hobgoblin       bad             1  ...      0       1      5\n",
      "309            Jigsaw       bad             1  ...      0       1      5\n",
      "334     Lady Bullseye       bad             1  ...      0       1      5\n",
      "335  Lady Deathstrike       bad             1  ...      0       1      5\n",
      "349     Luke Campbell       bad             1  ...      0       1      5\n",
      "387   Mister Sinister       bad             1  ...      0       1      5\n",
      "390            Moloch       bad             1  ...      0       1      5\n",
      "420         Omega Red       bad             1  ...      0       1      5\n",
      "425         Overtkill       bad             1  ...      0       1      5\n",
      "452     Razor-Fist II       bad             1  ...      0       1      5\n",
      "460       Redeemer II       bad             1  ...      0       1      5\n",
      "461      Redeemer III       bad             1  ...      0       1      5\n",
      "503          Siren II       bad             1  ...      0       1      5\n",
      "515    Spider-Carnage       bad             1  ...      0       1      5\n",
      "521   Spider-Woman IV       bad             1  ...      0       1      5\n",
      "560         Trickster       bad             1  ...      0       1      5\n",
      "576          Violator       bad             1  ...      0       1      5\n",
      "590         Weapon XI       bad             1  ...      0       1      5\n",
      "605       Yellow Claw       bad             1  ...      0       1      5\n",
      "\n",
      "[44 rows x 9 columns]\n"
     ]
    }
   ],
   "source": [
    "CharStat_Bad_MAX = CharStat_Bad[CharStat_Bad.Total == CharStat_Bad.Total.max()]\n",
    "CharStat_Bad_MIN = CharStat_Bad[CharStat_Bad.Total == CharStat_Bad.Total.min()]\n",
    "print(CharStat_Bad_MAX)\n",
    "print(CharStat_Bad_MIN)"
   ]
  },
  {
   "cell_type": "markdown",
   "metadata": {
    "id": "-nLlPWnSGCoK"
   },
   "source": [
    "**Se obtiene el personaje GOOD con mayor porcentaje total y el que tiene el peor porcentaje en todas las categorias**"
   ]
  },
  {
   "cell_type": "code",
   "execution_count": null,
   "metadata": {
    "colab": {
     "base_uri": "https://localhost:8080/"
    },
    "id": "YjSO0LS0jpDG",
    "outputId": "6f8e9148-ebb3-420c-94a8-1fbe723d3ccc"
   },
   "outputs": [
    {
     "name": "stdout",
     "output_type": "stream",
     "text": [
      "                  Name Alignment  Intelligence  ...  Power  Combat  Total\n",
      "361  Martian Manhunter      good           100  ...    100      85    581\n",
      "\n",
      "[1 rows x 9 columns]\n",
      "                 Name Alignment  Intelligence  ...  Power  Combat  Total\n",
      "7        Adam Strange      good             1  ...      0       1      5\n",
      "8           Agent  13      good             1  ...      0       1      5\n",
      "13       Alex Woolsly      good             1  ...      0       1      5\n",
      "15   Allan Quatermain      good             1  ...      0       1      5\n",
      "18     Ando Masahashi      good             1  ...      0       1      5\n",
      "..                ...       ...           ...  ...    ...     ...    ...\n",
      "580            Vulcan      good             1  ...      0       1      5\n",
      "584           Warbird      good             1  ...      0       1      5\n",
      "591       White Queen      good             1  ...      0       1      5\n",
      "595           Wiz Kid      good             1  ...      0       1      5\n",
      "601            Wondra      good             1  ...      0       1      5\n",
      "\n",
      "[133 rows x 9 columns]\n"
     ]
    }
   ],
   "source": [
    "CharStat_Good_MAX = CharStat_Good[CharStat_Good.Total == CharStat_Good.Total.max()]\n",
    "CharStat_Good_MIN = CharStat_Good[CharStat_Good.Total == CharStat_Good.Total.min()]\n",
    "print(CharStat_Good_MAX)\n",
    "print(CharStat_Good_MIN)"
   ]
  },
  {
   "cell_type": "markdown",
   "metadata": {
    "id": "4uiOR0x4GIQJ"
   },
   "source": [
    "**Se obtiene el personaje NEUTRAL con mayor porcentaje total y el que tiene el peor porcentaje en todas las categorias**"
   ]
  },
  {
   "cell_type": "code",
   "execution_count": null,
   "metadata": {
    "colab": {
     "base_uri": "https://localhost:8080/"
    },
    "id": "Hc2mO40yjpP_",
    "outputId": "7e2b0273-abe2-4b07-d0e7-73e191283f02"
   },
   "outputs": [
    {
     "name": "stdout",
     "output_type": "stream",
     "text": [
      "         Name Alignment  Intelligence  ...  Power  Combat  Total\n",
      "238  Galactus   neutral           100  ...    100      70    553\n",
      "\n",
      "[1 rows x 9 columns]\n",
      "             Name Alignment  Intelligence  ...  Power  Combat  Total\n",
      "544  The Comedian   neutral            63  ...     12      80    196\n",
      "\n",
      "[1 rows x 9 columns]\n"
     ]
    }
   ],
   "source": [
    "CharStat_Neutral_MAX = CharStat_Neutral[CharStat_Neutral.Total == CharStat_Neutral.Total.max()]\n",
    "CharStat_Neutral_MIN = CharStat_Neutral[CharStat_Neutral.Total == CharStat_Neutral.Total.min()]\n",
    "print(CharStat_Neutral_MAX)\n",
    "print(CharStat_Neutral_MIN)"
   ]
  },
  {
   "cell_type": "markdown",
   "metadata": {
    "id": "PVzdTh67CElE"
   },
   "source": [
    "**Se obtiene el personaje con mejor y peor puntaje de todos los datos**"
   ]
  },
  {
   "cell_type": "code",
   "execution_count": null,
   "metadata": {
    "colab": {
     "base_uri": "https://localhost:8080/"
    },
    "id": "O3wdvwrYkvgH",
    "outputId": "6fb6f32b-2e14-4504-8cca-4899304004ad"
   },
   "outputs": [
    {
     "name": "stdout",
     "output_type": "stream",
     "text": [
      "                  Name Alignment  Intelligence  ...  Power  Combat  Total\n",
      "361  Martian Manhunter      good           100  ...    100      85    581\n",
      "\n",
      "[1 rows x 9 columns]\n",
      "                 Name Alignment  Intelligence  ...  Power  Combat  Total\n",
      "7        Adam Strange      good             1  ...      0       1      5\n",
      "8           Agent  13      good             1  ...      0       1      5\n",
      "13       Alex Woolsly      good             1  ...      0       1      5\n",
      "15   Allan Quatermain      good             1  ...      0       1      5\n",
      "17               Ammo       bad             1  ...      0       1      5\n",
      "..                ...       ...           ...  ...    ...     ...    ...\n",
      "590         Weapon XI       bad             1  ...      0       1      5\n",
      "591       White Queen      good             1  ...      0       1      5\n",
      "595           Wiz Kid      good             1  ...      0       1      5\n",
      "601            Wondra      good             1  ...      0       1      5\n",
      "605       Yellow Claw       bad             1  ...      0       1      5\n",
      "\n",
      "[177 rows x 9 columns]\n"
     ]
    }
   ],
   "source": [
    "CharStat_MAX = CharStat[CharStat.Total == CharStat.Total.max()]\n",
    "CharStat_MIN = CharStat[CharStat.Total == CharStat.Total.min()]\n",
    "print(CharStat_MAX)\n",
    "print(CharStat_MIN)"
   ]
  },
  {
   "cell_type": "markdown",
   "metadata": {
    "id": "qceeZ0C3CWI6"
   },
   "source": [
    "**Se obtiene un analisis estadistico de la fuerza de todos los personajes**"
   ]
  },
  {
   "cell_type": "code",
   "execution_count": null,
   "metadata": {
    "colab": {
     "base_uri": "https://localhost:8080/"
    },
    "id": "kQwyfmolrHM1",
    "outputId": "099356dc-4856-4be4-d735-0575efa64163"
   },
   "outputs": [
    {
     "name": "stdout",
     "output_type": "stream",
     "text": [
      "Media Recortada de Fuerza General (P=10): 28.944162436548222\n",
      "Mediana de Fuerza General: 10.0\n",
      "Desviación estandar de Fuerza: 32.61093910412223\n",
      "Varianza en la Fuerza: 1063.4733492527685\n"
     ]
    },
    {
     "data": {
      "text/plain": [
       "0.25     1.0\n",
       "0.50    10.0\n",
       "0.75    53.0\n",
       "Name: Strength, dtype: float64"
      ]
     },
     "execution_count": 121,
     "metadata": {},
     "output_type": "execute_result"
    }
   ],
   "source": [
    "sorted = CharStat['Strength'].sort_values(ascending = True) #Función de pandas para ordenar arreglos\n",
    "p = 10\n",
    "acum = 0\n",
    "for i in range(p, len(sorted) - p):\n",
    "    acum = acum + sorted[i]\n",
    "result = acum / (len(sorted)-(2*p))\n",
    "MRFG = result\n",
    "MFG = CharStat['Strength'].median()\n",
    "DEF = sorted.std()\n",
    "VF = sorted.var()\n",
    "print('Media Recortada de Fuerza General (P=10):',MRFG)\n",
    "print('Mediana de Fuerza General:', MFG)\n",
    "print('Desviación estandar de Fuerza:', DEF)\n",
    "print('Varianza en la Fuerza:', VF)\n",
    "sorted.quantile([0.25,0.50,0.75])"
   ]
  },
  {
   "cell_type": "markdown",
   "metadata": {
    "id": "ASoRCZnDCwsz"
   },
   "source": [
    "**Se obtiene un analisis estadistico de la inteligencia de todos los personajes**"
   ]
  },
  {
   "cell_type": "code",
   "execution_count": null,
   "metadata": {
    "colab": {
     "base_uri": "https://localhost:8080/"
    },
    "id": "gularoKL4LfG",
    "outputId": "a2035a24-79d6-40cf-facb-160424b89cdd"
   },
   "outputs": [
    {
     "name": "stdout",
     "output_type": "stream",
     "text": [
      "Media Recortada de Inteligencia General(P=10): 44.417935702199664\n",
      "Mediana de Inteligencia General: 44.417935702199664\n",
      "Desviación estandar de Inteligencia: 32.92472154848235\n",
      "Varianza en la Inteligencia: 1084.037289045098\n"
     ]
    },
    {
     "data": {
      "text/plain": [
       "0.25     1.0\n",
       "0.50    50.0\n",
       "0.75    75.0\n",
       "Name: Intelligence, dtype: float64"
      ]
     },
     "execution_count": 122,
     "metadata": {},
     "output_type": "execute_result"
    }
   ],
   "source": [
    "sorted = CharStat['Intelligence'].sort_values(ascending = True) #Función de pandas para ordenar arreglos\n",
    "p = 10\n",
    "acum = 0\n",
    "for i in range(p, len(sorted) - p):\n",
    "    acum = acum + sorted[i]\n",
    "result = acum / (len(sorted)-(2*p))\n",
    "MRIG = result\n",
    "MIG = CharStat['Strength'].median()\n",
    "DEI = sorted.std()\n",
    "VI = sorted.var()\n",
    "print('Media Recortada de Inteligencia General(P=10):',MRIG)\n",
    "print('Mediana de Inteligencia General:', MRIG)\n",
    "print('Desviación estandar de Inteligencia:', DEI)\n",
    "print('Varianza en la Inteligencia:', VI)\n",
    "sorted.quantile([0.25,0.50,0.75])"
   ]
  },
  {
   "cell_type": "markdown",
   "metadata": {
    "id": "PgEK6dpaC2SY"
   },
   "source": [
    "**Se obtiene un analisis estadistico de la velocidad de todos los personajes**"
   ]
  },
  {
   "cell_type": "code",
   "execution_count": null,
   "metadata": {
    "colab": {
     "base_uri": "https://localhost:8080/"
    },
    "id": "WYfbztWL4U1k",
    "outputId": "4527763b-743a-4a9e-df9f-b3ef667a1564"
   },
   "outputs": [
    {
     "name": "stdout",
     "output_type": "stream",
     "text": [
      "Media Recortada de Velocidad General (P=10): 27.19796954314721\n",
      "Mediana de Velocidad General: 23.0\n",
      "Desviación estandar de Velocidad: 25.76017283041078\n",
      "Varianza en la Velocidad: 663.5865042526339\n"
     ]
    },
    {
     "data": {
      "text/plain": [
       "0.25     1.0\n",
       "0.50    23.0\n",
       "0.75    42.0\n",
       "Name: Speed, dtype: float64"
      ]
     },
     "execution_count": 123,
     "metadata": {},
     "output_type": "execute_result"
    }
   ],
   "source": [
    "sorted = CharStat['Speed'].sort_values(ascending = True) #Función de pandas para ordenar arreglos\n",
    "p = 10\n",
    "acum = 0\n",
    "for i in range(p, len(sorted) - p):\n",
    "    acum = acum + sorted[i]\n",
    "result = acum / (len(sorted)-(2*p))\n",
    "MRVG = result\n",
    "MVG = CharStat['Strength'].median()\n",
    "DEV = sorted.std()\n",
    "VV = sorted.var()\n",
    "print('Media Recortada de Velocidad General (P=10):',result)\n",
    "print('Mediana de Velocidad General:', sorted.median())\n",
    "print('Desviación estandar de Velocidad:', sorted.std())\n",
    "print('Varianza en la Velocidad:', VV)\n",
    "sorted.quantile([0.25,0.50,0.75])"
   ]
  },
  {
   "cell_type": "markdown",
   "metadata": {
    "id": "YZa7L_dXC5U5"
   },
   "source": [
    "**Se obtiene un analisis estadistico del aguante de todos los personajes**"
   ]
  },
  {
   "cell_type": "code",
   "execution_count": null,
   "metadata": {
    "colab": {
     "base_uri": "https://localhost:8080/"
    },
    "id": "j9jQmIc94kYY",
    "outputId": "1724cab2-8fad-4311-8f4a-044063785650"
   },
   "outputs": [
    {
     "name": "stdout",
     "output_type": "stream",
     "text": [
      "Media Recortada de Aguante General (P=10): 41.70896785109983\n",
      "Mediana de Aguante General: 32.0\n",
      "Desviación estandar de Aguante: 36.543849284129756\n",
      "Varianza en la Velocidad: 1335.4529205011909\n"
     ]
    },
    {
     "data": {
      "text/plain": [
       "0.25     1.0\n",
       "0.50    32.0\n",
       "0.75    80.0\n",
       "Name: Durability, dtype: float64"
      ]
     },
     "execution_count": 124,
     "metadata": {},
     "output_type": "execute_result"
    }
   ],
   "source": [
    "sorted = CharStat['Durability'].sort_values(ascending = True) #Función de pandas para ordenar arreglos\n",
    "p = 10\n",
    "acum = 0\n",
    "for i in range(p, len(sorted) - p):\n",
    "    acum = acum + sorted[i]\n",
    "result = acum / (len(sorted)-(2*p))\n",
    "MRAG = result\n",
    "MAG = CharStat['Strength'].median()\n",
    "DEA = sorted.std()\n",
    "VA = sorted.var()\n",
    "print('Media Recortada de Aguante General (P=10):',result)\n",
    "print('Mediana de Aguante General:', sorted.median())\n",
    "print('Desviación estandar de Aguante:', sorted.std())\n",
    "print('Varianza en la Velocidad:', VA)\n",
    "sorted.quantile([0.25,0.50,0.75])"
   ]
  }
 ],
 "metadata": {
  "colab": {
   "collapsed_sections": [],
   "name": "EjercicioDatos.ipynb",
   "provenance": []
  },
  "kernelspec": {
   "display_name": "Python 3",
   "language": "python",
   "name": "python3"
  },
  "language_info": {
   "codemirror_mode": {
    "name": "ipython",
    "version": 3
   },
   "file_extension": ".py",
   "mimetype": "text/x-python",
   "name": "python",
   "nbconvert_exporter": "python",
   "pygments_lexer": "ipython3",
   "version": "3.8.8"
  }
 },
 "nbformat": 4,
 "nbformat_minor": 1
}
